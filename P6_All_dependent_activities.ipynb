{
  "nbformat": 4,
  "nbformat_minor": 0,
  "metadata": {
    "colab": {
      "provenance": [],
      "authorship_tag": "ABX9TyMYRxw1FwNy4IfQGhIZ2Hsp",
      "include_colab_link": true
    },
    "kernelspec": {
      "name": "python3",
      "display_name": "Python 3"
    },
    "language_info": {
      "name": "python"
    }
  },
  "cells": [
    {
      "cell_type": "markdown",
      "metadata": {
        "id": "view-in-github",
        "colab_type": "text"
      },
      "source": [
        "<a href=\"https://colab.research.google.com/github/akshayganeshnk/hello-world/blob/main/P6_All_dependent_activities.ipynb\" target=\"_parent\"><img src=\"https://colab.research.google.com/assets/colab-badge.svg\" alt=\"Open In Colab\"/></a>"
      ]
    },
    {
      "cell_type": "code",
      "source": [
        "from google.colab import files\n",
        "import pandas as pd\n",
        "import io\n",
        "\n",
        "# Step 1: Upload an Excel file\n",
        "uploaded = files.upload()\n",
        "\n",
        "# Step 2: Read the uploaded Excel file into a DataFrame\n",
        "for filename in uploaded.keys():\n",
        "    data = uploaded[filename]\n",
        "    df = pd.read_excel(io.BytesIO(data))\n",
        "\n",
        "# Step 3: Delete the first row\n",
        "df = df.iloc[1:]\n",
        "\n",
        "# Step 4: Save the file as CSV\n",
        "df.to_csv('data.csv', index=False)\n",
        "\n",
        "def recursive_search(df, initial_value, target_column, search_column):\n",
        "    results = set()\n",
        "    search_values = {initial_value}\n",
        "    while search_values:\n",
        "        new_search_values = set()\n",
        "        for value in search_values:\n",
        "            filtered_df = df.loc[df[search_column] == value, target_column].tolist()\n",
        "            results.update(filtered_df)\n",
        "            new_search_values.update(filtered_df)\n",
        "        search_values = new_search_values\n",
        "    return list(results)\n",
        "\n",
        "# Allowing user to input the initial value\n",
        "initial_value = input(\"Enter the initial value for the search: \")\n",
        "\n",
        "final_list = recursive_search(df, initial_value, 'pred_task_id', 'task_id')\n",
        "df_1 = pd.DataFrame({'Result': final_list})\n",
        "\n",
        "# Save DataFrame to Excel\n",
        "df_1.to_excel('final_list.xlsx', index=False)\n",
        "\n",
        "# Download the Excel file\n",
        "files.download('final_list.xlsx')\n"
      ],
      "metadata": {
        "id": "veJcpSeDGQES"
      },
      "execution_count": null,
      "outputs": []
    }
  ]
}